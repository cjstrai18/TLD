{
 "cells": [
  {
   "cell_type": "code",
   "execution_count": 5,
   "id": "7fcdff7b",
   "metadata": {},
   "outputs": [],
   "source": [
    "read_lines = [[],[]]\n",
    "with open('T3500_24Jul02.asc', 'r') as f: \n",
    "    readouts = f.readlines()                                   # Get entire file as list of strings \n",
    "    for readout in readouts:                                   # Iterate over each readout\n",
    "        parsed_readout = readout.split(',')                    # Split into cols \n",
    "        if len(parsed_readout[2].replace(' ','')[1:-1]) <= 2:  # Check for pmt / ref entry \n",
    "            read_lines[1].append(readout)\n",
    "        else: \n",
    "            read_lines[0].append(readout)\n",
    "\n",
    "read_lines[1].reverse()\n",
    "\n",
    "with open('T3500_24Jul02_re_ord.asc', 'w') as nf:\n",
    "    for t in read_lines: \n",
    "        for line in t:\n",
    "            nf.write(line)\n",
    "    "
   ]
  },
  {
   "cell_type": "code",
   "execution_count": null,
   "id": "cb726a55",
   "metadata": {},
   "outputs": [],
   "source": []
  }
 ],
 "metadata": {
  "kernelspec": {
   "display_name": "Python 3 (ipykernel)",
   "language": "python",
   "name": "python3"
  },
  "language_info": {
   "codemirror_mode": {
    "name": "ipython",
    "version": 3
   },
   "file_extension": ".py",
   "mimetype": "text/x-python",
   "name": "python",
   "nbconvert_exporter": "python",
   "pygments_lexer": "ipython3",
   "version": "3.11.4"
  }
 },
 "nbformat": 4,
 "nbformat_minor": 5
}
